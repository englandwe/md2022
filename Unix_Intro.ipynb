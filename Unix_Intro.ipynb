{
 "cells": [
  {
   "cell_type": "markdown",
   "id": "5d7d514b",
   "metadata": {},
   "source": [
    "# Basics of UNIX Walkthrough\n",
    "\n",
    "## Getting Started\n",
    "\n",
    "### Mac/ Linux\n",
    "\n",
    "Login using Terminal on a MAC or UNIX. Your username will be your first name. Use the key private key from the keypair you generated at the beginning of the course.\n",
    "\n",
    "`ssh -Y -i ~/.ssh/MyPrivateKey.pem your_username@18.219.176.206`"
   ]
  },
  {
   "cell_type": "markdown",
   "id": "f2cae2c6",
   "metadata": {},
   "source": [
    "### Windows (using PuTTY)\n",
    "\n",
    "1. Open PuTTY\n",
    "2. Under Category, click on SSH > Auth\n",
    "3. Click browse\n",
    "4. Find your private key (keyname.pem) and select it\n",
    "5. Under Category, click on SSH > Auth and check the \"Enable X11 forwarding\" box.\n",
    "6. Under Category, click Session and input the server IP address (18.219.176.206) in the \"host name\" box     \n",
    "7. Type \"md2022\" in the box under saved sessions and click save. \n",
    "8. Double-click on the \"md2022\" that appears under saved sessions.\n",
    "9. Log in with your username.  Your key should be used automatically. \n",
    "10. For future logins, just double-click the \"md2022\" saved session.\n",
    "\n",
    "\n",
    "![putty_example.png](putty_example.png)\n"
   ]
  },
  {
   "cell_type": "markdown",
   "id": "2ffb2561",
   "metadata": {},
   "source": [
    "## Where am I?\n",
    "\n",
    "By default, you'll be in your home directory.  The `pwd` command will **print** the current **working directory**, telling you where you are."
   ]
  },
  {
   "cell_type": "code",
   "execution_count": null,
   "id": "6eed725e",
   "metadata": {
    "scrolled": true
   },
   "outputs": [],
   "source": [
    "pwd"
   ]
  },
  {
   "cell_type": "markdown",
   "id": "9f55151e",
   "metadata": {},
   "source": [
    "You can also establish who you are."
   ]
  },
  {
   "cell_type": "code",
   "execution_count": null,
   "id": "918e5b30",
   "metadata": {},
   "outputs": [],
   "source": [
    "whoami"
   ]
  },
  {
   "cell_type": "markdown",
   "id": "1f00d76e",
   "metadata": {},
   "source": [
    "To see the files and directories present in your current directory, use the `ls` command."
   ]
  },
  {
   "cell_type": "code",
   "execution_count": null,
   "id": "6f0e8b3c",
   "metadata": {},
   "outputs": [],
   "source": [
    "ls"
   ]
  },
  {
   "cell_type": "markdown",
   "id": "b449aa23",
   "metadata": {},
   "source": [
    "You can get more detail on the files using `ls -l`."
   ]
  },
  {
   "cell_type": "code",
   "execution_count": null,
   "id": "c20017cd",
   "metadata": {},
   "outputs": [],
   "source": [
    "ls -l"
   ]
  },
  {
   "cell_type": "markdown",
   "id": "b5db1f49",
   "metadata": {},
   "source": [
    "There are lots of other ways to customize the output of `ls`.  You can use the `man` command to get a **man**ual for another command."
   ]
  },
  {
   "cell_type": "code",
   "execution_count": null,
   "id": "3538bb37",
   "metadata": {},
   "outputs": [],
   "source": [
    "man ls"
   ]
  },
  {
   "cell_type": "markdown",
   "id": "9466c99d",
   "metadata": {},
   "source": [
    "Now you can try something more complex."
   ]
  },
  {
   "cell_type": "code",
   "execution_count": null,
   "id": "34ba6155",
   "metadata": {},
   "outputs": [],
   "source": [
    "ls -lah"
   ]
  },
  {
   "cell_type": "markdown",
   "id": "07aed396",
   "metadata": {},
   "source": [
    "## File permissions\n",
    "So what's all this `drwxrwxr-x`?  These are permissions, which tell you what you (and others) can do to a file or directory.\n"
   ]
  },
  {
   "cell_type": "markdown",
   "id": "4baaadcf",
   "metadata": {},
   "source": [
    "![permissions.png](permissions.png)"
   ]
  },
  {
   "cell_type": "markdown",
   "id": "e7bc7a32",
   "metadata": {},
   "source": [
    "## Files and directories\n",
    "\n",
    "You can create new directories, move to them, and see what's inside.\n",
    "\n",
    "_Avoid using these characters in file or directory names:_ ``| , ! @ # $ % ^ & * ( ) { } [ ] + = ; : \\ ` ? > < space tab``. `_` and `-` are good substitutes for spaces."
   ]
  },
  {
   "cell_type": "code",
   "execution_count": null,
   "id": "c21be9dc",
   "metadata": {},
   "outputs": [],
   "source": [
    "mkdir my_new_directory"
   ]
  },
  {
   "cell_type": "code",
   "execution_count": null,
   "id": "a2145145",
   "metadata": {},
   "outputs": [],
   "source": [
    "ls"
   ]
  },
  {
   "cell_type": "code",
   "execution_count": null,
   "id": "35dc8f43",
   "metadata": {},
   "outputs": [],
   "source": [
    "cd my_new_directory"
   ]
  },
  {
   "cell_type": "code",
   "execution_count": null,
   "id": "72c02c59",
   "metadata": {},
   "outputs": [],
   "source": [
    "ls"
   ]
  },
  {
   "cell_type": "markdown",
   "id": "e2dba71b",
   "metadata": {},
   "source": [
    "You can move to a directory above your current one using a double dot (`..`)."
   ]
  },
  {
   "cell_type": "code",
   "execution_count": null,
   "id": "0e1820b9",
   "metadata": {},
   "outputs": [],
   "source": [
    "cd .."
   ]
  },
  {
   "cell_type": "code",
   "execution_count": null,
   "id": "7e02bc2c",
   "metadata": {},
   "outputs": [],
   "source": [
    "pwd"
   ]
  },
  {
   "cell_type": "markdown",
   "id": "3d92771d",
   "metadata": {},
   "source": [
    "You can chain together as many double dots as you like.  This would take you up three directory levels: `../../..`."
   ]
  },
  {
   "cell_type": "markdown",
   "id": "d8e87dc7",
   "metadata": {},
   "source": [
    "Another useful shortcut is `~`, which represents your home directory."
   ]
  },
  {
   "cell_type": "code",
   "execution_count": null,
   "id": "6100f40a",
   "metadata": {},
   "outputs": [],
   "source": [
    "cd ~"
   ]
  },
  {
   "cell_type": "code",
   "execution_count": null,
   "id": "092e5239",
   "metadata": {},
   "outputs": [],
   "source": [
    "pwd"
   ]
  },
  {
   "cell_type": "markdown",
   "id": "c36683fd",
   "metadata": {},
   "source": [
    "We can also create simple text files."
   ]
  },
  {
   "cell_type": "code",
   "execution_count": null,
   "id": "fa758cff",
   "metadata": {},
   "outputs": [],
   "source": [
    "echo \"some fun text\" > myfile.txt"
   ]
  },
  {
   "cell_type": "code",
   "execution_count": null,
   "id": "bc39acb4",
   "metadata": {},
   "outputs": [],
   "source": [
    "ls"
   ]
  },
  {
   "cell_type": "markdown",
   "id": "67531aba",
   "metadata": {},
   "source": [
    "We can show the entire file with `cat`, scroll through it with `less`, or edit it with `nano`."
   ]
  },
  {
   "cell_type": "code",
   "execution_count": null,
   "id": "be7ea51a",
   "metadata": {},
   "outputs": [],
   "source": [
    "cat myfile.txt"
   ]
  },
  {
   "cell_type": "code",
   "execution_count": null,
   "id": "541cd40a",
   "metadata": {},
   "outputs": [],
   "source": [
    "less myfile.txt"
   ]
  },
  {
   "cell_type": "code",
   "execution_count": null,
   "id": "af5ce2e7",
   "metadata": {},
   "outputs": [],
   "source": [
    "nano myfile.txt"
   ]
  },
  {
   "cell_type": "markdown",
   "id": "f847e12a",
   "metadata": {},
   "source": [
    "`Ctrl+x` to exit, `y`/`n` to save or not save the file."
   ]
  },
  {
   "cell_type": "markdown",
   "id": "30e8201b",
   "metadata": {},
   "source": [
    "Files and directories can be copied, moved, and removed.  _There is no recycle bin here; if you delete something, it's gone forever. Remove with care._"
   ]
  },
  {
   "cell_type": "code",
   "execution_count": null,
   "id": "2240fb48",
   "metadata": {},
   "outputs": [],
   "source": [
    "cp myfile.txt newfile.txt"
   ]
  },
  {
   "cell_type": "code",
   "execution_count": null,
   "id": "ab89d948",
   "metadata": {},
   "outputs": [],
   "source": [
    "mv newfile.txt my_new_directory"
   ]
  },
  {
   "cell_type": "code",
   "execution_count": null,
   "id": "850b75e8",
   "metadata": {},
   "outputs": [],
   "source": [
    "cd my_new_directory"
   ]
  },
  {
   "cell_type": "code",
   "execution_count": null,
   "id": "76c2ecbe",
   "metadata": {},
   "outputs": [],
   "source": [
    "mv newfile.txt delete_this.txt"
   ]
  },
  {
   "cell_type": "code",
   "execution_count": null,
   "id": "b29e79d0",
   "metadata": {},
   "outputs": [],
   "source": [
    "rm delete_this.txt"
   ]
  },
  {
   "cell_type": "code",
   "execution_count": null,
   "id": "bbb9872b",
   "metadata": {},
   "outputs": [],
   "source": [
    "cd ~"
   ]
  },
  {
   "cell_type": "markdown",
   "id": "e8ed2937",
   "metadata": {},
   "source": [
    "To delete directories and their contents **recursively**, use the `-r` flag."
   ]
  },
  {
   "cell_type": "code",
   "execution_count": null,
   "id": "2e2cb10b",
   "metadata": {},
   "outputs": [],
   "source": [
    "rm -r my_new_directory"
   ]
  },
  {
   "cell_type": "markdown",
   "id": "0ebc6b9a",
   "metadata": {},
   "source": [
    "## Searching\n",
    "\n",
    "We can use `grep` to search within text files.  Move back to your home directory and try searching `myfile.txt`."
   ]
  },
  {
   "cell_type": "code",
   "execution_count": null,
   "id": "e15dda3a",
   "metadata": {},
   "outputs": [],
   "source": [
    "grep \"fun\" myfile.txt"
   ]
  },
  {
   "cell_type": "markdown",
   "id": "db780369",
   "metadata": {},
   "source": [
    "To find a file, use the `find` command."
   ]
  },
  {
   "cell_type": "code",
   "execution_count": null,
   "id": "580eb7dd",
   "metadata": {},
   "outputs": [],
   "source": [
    "find ~ -name \"myfile.txt\""
   ]
  },
  {
   "cell_type": "markdown",
   "id": "acdb4ea3",
   "metadata": {},
   "source": [
    "## Other useful tips\n",
    "\n",
    "You can use the up arrow to scroll through your command history - useful for editing previous commands.\n",
    "\n",
    "You can use tab to autocomplete commands and filenames - type the beginning of the file name and then hit tab.  Hit it twice to see a list of options if there's more than one possibility.\n",
    "\n",
    "Asterisks (\\*) are wildcard characters.  For example, this would list all files inthe current directory enting in .txt: `ls *.txt`\n",
    "\n",
    "If a text file is behaving strangely, the problem may be linebreaks. PCs, Macs, and Unix use different characters to tell a file the line has ended:  `\\r\\n` , `\\r`, `\\n`, `^M`.  Use a decent text editor than can produce Unix linebreaks (not notepad, never MS Word!).  Notepad++ is good for Windows users.  You can fix incorrect linebreaks using `dos2unix` and `mac2unix`.\n",
    "\n",
    "You can see which directories will be searched when executing programs by examining your PATH variable: `echo \"$PATH\"`"
   ]
  }
 ],
 "metadata": {
  "kernelspec": {
   "display_name": "Bash",
   "language": "bash",
   "name": "bash"
  },
  "language_info": {
   "codemirror_mode": "shell",
   "file_extension": ".sh",
   "mimetype": "text/x-sh",
   "name": "bash"
  }
 },
 "nbformat": 4,
 "nbformat_minor": 5
}
