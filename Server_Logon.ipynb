{
 "cells": [
  {
   "cell_type": "markdown",
   "id": "2bf35963",
   "metadata": {},
   "source": [
    "# Logging into the md2022 course server (18.219.176.206)\n",
    "\n",
    "To log into the server you will need:\n",
    "1. You ssh private key (keyname.pem). It may be in your home directory, desktop or in the hidden folder .ssh.\n",
    "2. Username = first name\n",
    "3. The public IP address for the server (18.219.176.206)\n"
   ]
  },
  {
   "cell_type": "markdown",
   "id": "d3956f00",
   "metadata": {},
   "source": [
    "## Login using Terminal on a Mac or Linux \n",
    "\n",
    "`ssh -Y -i keyname.pem username@18.219.176.206`\n",
    "\n",
    "The -Y enables running GUIs from the server; if it doesn't work, try -X instead."
   ]
  },
  {
   "cell_type": "markdown",
   "id": "aa449f2b",
   "metadata": {},
   "source": [
    "## Login from Windows using PuTTY\n",
    "\n",
    "1. Open PuTTY\n",
    "2. Under Category, click on SSH > Auth\n",
    "3. Click browse\n",
    "4. Find your private key (keyname.pem) and select it\n",
    "5. Under Category, click on SSH > Auth and check the \"Enable X11 forwarding\" box.\n",
    "6. Under Category, click Session and input the server IP address (18.219.176.206) in the \"host name\" box     \n",
    "7. Type \"md2022\" in the box under saved sessions and click save. \n",
    "8. Double-click on the \"md2022\" that appears under saved sessions.\n",
    "9. Log in with your username.  Your key should be used automatically. \n",
    "10. For future logins, just double-click the \"md2022\" saved session.\n"
   ]
  },
  {
   "cell_type": "markdown",
   "id": "2288a48a",
   "metadata": {},
   "source": [
    "![putty_example.png](putty_example.png)"
   ]
  }
 ],
 "metadata": {
  "kernelspec": {
   "display_name": "Bash",
   "language": "bash",
   "name": "bash"
  },
  "language_info": {
   "codemirror_mode": "shell",
   "file_extension": ".sh",
   "mimetype": "text/x-sh",
   "name": "bash"
  }
 },
 "nbformat": 4,
 "nbformat_minor": 5
}
