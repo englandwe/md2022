{
 "cells": [
  {
   "cell_type": "markdown",
   "id": "40c35930",
   "metadata": {},
   "source": [
    "# CRISPR Hunting\n",
    "\n",
    "Today we'll be identifying CRISPR sequences in a set of genomes from strains isolated from Sippewissett salt marsh mats.  They appeared as **w**hite **o**n the **g**reen background of the mats, and are referred to here as WOGs.  They were sequenced with PacBio long-read technology, and are likely to have intact CRISPR arrays - if they have CRISPRs at all.\n",
    "\n",
    "## Step 0: Get ready\n",
    "\n",
    "Our tool of choice today is `cctk`, which is installed in its own conda environment.  Activate it with:"
   ]
  },
  {
   "cell_type": "code",
   "execution_count": null,
   "id": "2a5e173c",
   "metadata": {},
   "outputs": [],
   "source": [
    "conda activate cctk"
   ]
  },
  {
   "cell_type": "markdown",
   "id": "aaaa59eb",
   "metadata": {},
   "source": [
    "Make a new working directory and copy over the WOG genomes."
   ]
  },
  {
   "cell_type": "code",
   "execution_count": null,
   "id": "26000011",
   "metadata": {},
   "outputs": [],
   "source": [
    "mkdir /YOUR_GROUP/YOUR_DIRECTORY/crispr_hunting"
   ]
  },
  {
   "cell_type": "code",
   "execution_count": null,
   "id": "4ca26312",
   "metadata": {},
   "outputs": [],
   "source": [
    "cp /datahaus/crispr_hunting/crispr_data.zip ."
   ]
  },
  {
   "cell_type": "code",
   "execution_count": null,
   "id": "6bdb8d18",
   "metadata": {},
   "outputs": [],
   "source": [
    "unzip crispr_data.zip"
   ]
  },
  {
   "cell_type": "markdown",
   "id": "9bed4b94",
   "metadata": {},
   "source": [
    "## Step 1: Find CRISPRs with MinCED\n",
    "\n",
    "You should have a folder called `WOG_assemblies`, containing .fasta files of contigs from the 4 WOG genomes.  To search for CRISPRs in these genomes, ues `cctk minced`.  This uses the program MinCED to identify CRISPR repeats in the contigs and extract repeats and spacer sequences.  First, make a directory for the output files, then run the command using the WOG_assemblies directory as input. `-m -p` tells cctk to run MinCED and process the output."
   ]
  },
  {
   "cell_type": "code",
   "execution_count": null,
   "id": "0ee8ffba",
   "metadata": {},
   "outputs": [],
   "source": [
    "mkdir minced_crisprs"
   ]
  },
  {
   "cell_type": "code",
   "execution_count": null,
   "id": "b0df4a5d",
   "metadata": {},
   "outputs": [],
   "source": [
    "cctk minced -i WOG_assemblies/ -o minced_crisprs/ -m -p"
   ]
  },
  {
   "cell_type": "markdown",
   "id": "0129b78e",
   "metadata": {},
   "source": [
    "Check the output files in `minced_crisprs/PROCESSED`.\n",
    "\n",
    "- _Do all strains have CRISPRs?_\n",
    "- _Do the strains with CRISPRs have different spacer arrays?_"
   ]
  },
  {
   "attachments": {},
   "cell_type": "markdown",
   "id": "57857652",
   "metadata": {},
   "source": [
    "## Step 2: Visualize CRISPR arrays\n",
    "\n",
    "cctk's crisprDiff function can generate a plot showing relatedness among CRISPR arrays.  We can use it to compare our two types of arrays. An example plot is shown below.\n",
    "\n",
    "![cdplot.png](cdplot.png)\n",
    "\n",
    "The key elements are: \n",
    "\n",
    "1) Array ID\n",
    "\n",
    "2) Spacers unique to a single array on the plot (black line)\n",
    "\n",
    "3) Spacers found in more than one array (large filled rectangles)\n",
    "\n",
    "4) Lines connecting shared spacers\n"
   ]
  },
  {
   "cell_type": "code",
   "execution_count": null,
   "id": "8ab49e85",
   "metadata": {},
   "outputs": [],
   "source": [
    "cd minced_crisprs/"
   ]
  },
  {
   "cell_type": "code",
   "execution_count": null,
   "id": "dc4b6c7a",
   "metadata": {},
   "outputs": [],
   "source": [
    "mkdir plots"
   ]
  },
  {
   "cell_type": "code",
   "execution_count": null,
   "id": "cf399251",
   "metadata": {},
   "outputs": [],
   "source": [
    "cctk crisprdiff -a PROCESSED/Array_IDs.txt -o plots/all_diff.png"
   ]
  },
  {
   "cell_type": "code",
   "execution_count": null,
   "id": "9e6fc032",
   "metadata": {},
   "outputs": [],
   "source": [
    "display plots/all_diff.png"
   ]
  },
  {
   "cell_type": "markdown",
   "id": "deaf7151",
   "metadata": {},
   "source": [
    "- _Which spacers are shared between array types?_"
   ]
  },
  {
   "cell_type": "markdown",
   "id": "70f50b35",
   "metadata": {},
   "source": [
    "## Step 3: Find targets\n",
    "\n",
    "Now that we know the spacer sequences of all our arrays, we can use them to find targeted sequences with BLAST.  First, we'll check our set of genomes.  Build a BLAST database of all 4 metagenomes."
   ]
  },
  {
   "cell_type": "code",
   "execution_count": null,
   "id": "ce220836",
   "metadata": {},
   "outputs": [],
   "source": [
    "makeblastdb -in blastdb/all_WOG_assemblies.fasta \\\n",
    "-out blastdb/all_WOGs -dbtype nucl -parse_seqids"
   ]
  },
  {
   "cell_type": "markdown",
   "id": "69f9e4f9",
   "metadata": {},
   "source": [
    "Now look for matches using `cctk spacerblast`. We can provide the array locations to avoid self-matches to the CRISPR array. `-p 100` sets the percent identity of the match, so we'll only be looking for perfect matches."
   ]
  },
  {
   "cell_type": "code",
   "execution_count": null,
   "id": "b82ba66d",
   "metadata": {},
   "outputs": [],
   "source": [
    "cctk spacerblast -d blastdb/all_WOGs \\\n",
    "-s minced_crisprs/PROCESSED/CRISPR_spacers.fna \\\n",
    "-p 100 -r minced_crisprs/PROCESSED/Array_locations.bed"
   ]
  },
  {
   "cell_type": "markdown",
   "id": "de648dd4",
   "metadata": {},
   "source": [
    "There are two additional blast databases you can search for viral matches: \n",
    "- all_shep_viromes, which contains sequenced supernatant from six Sippewissett isolate cultures\n",
    "- pinksand_meta, which contains a metagenome of Sippewissett pink sand"
   ]
  },
  {
   "cell_type": "code",
   "execution_count": null,
   "id": "e5ecc905",
   "metadata": {},
   "outputs": [],
   "source": [
    "cctk spacerblast -d blastdb/all_shep_viromes \\\n",
    "-s minced_crisprs/PROCESSED/CRISPR_spacers.fna \\\n",
    "-p 100"
   ]
  },
  {
   "cell_type": "code",
   "execution_count": null,
   "id": "08818d8a",
   "metadata": {},
   "outputs": [],
   "source": [
    "cctk spacerblast -d blastdb/pinksand_meta \\\n",
    "-s minced_crisprs/PROCESSED/CRISPR_spacers.fna \\\n",
    "-p 100"
   ]
  },
  {
   "cell_type": "markdown",
   "id": "c8485f28",
   "metadata": {},
   "source": [
    "- _Are there hits to any of the databases?_\n",
    "- _How could you check if these are hits to viruses or other CRISPR arrays?_"
   ]
  }
 ],
 "metadata": {
  "kernelspec": {
   "display_name": "Bash",
   "language": "bash",
   "name": "bash"
  },
  "language_info": {
   "codemirror_mode": "shell",
   "file_extension": ".sh",
   "mimetype": "text/x-sh",
   "name": "bash"
  }
 },
 "nbformat": 4,
 "nbformat_minor": 5
}
