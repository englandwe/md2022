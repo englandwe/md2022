{
 "cells": [
  {
   "cell_type": "markdown",
   "id": "b364d896",
   "metadata": {},
   "source": [
    "# Screen\n",
    "\n",
    "If you are starting an analysis with a long projected run time (read assembly, mapping, qiime, etc.), you can initiate a `screen` session to allow your program to continue running while you close your laptop and head to the lab (or beer tent).\n",
    "\n",
    "## Getting Started\n",
    "\n",
    "To start the session, type:"
   ]
  },
  {
   "cell_type": "code",
   "execution_count": null,
   "id": "16e89b2d",
   "metadata": {},
   "outputs": [],
   "source": [
    "screen"
   ]
  },
  {
   "cell_type": "markdown",
   "id": "deda1705",
   "metadata": {},
   "source": [
    "Press enter at the intro page; it should disappear and the command line prompt should return. The terminal/command line prompt might look a little different, but you should be in the same directory you started in. Time to start your job!\n",
    "\n",
    "Once you are done working in the screen environment you can either detach it to return to it later OR kill it. "
   ]
  },
  {
   "cell_type": "markdown",
   "id": "07381fad",
   "metadata": {},
   "source": [
    "## Detatching\n",
    "\n",
    "Detatch from the screen using a key combination:"
   ]
  },
  {
   "cell_type": "markdown",
   "id": "9e327614",
   "metadata": {},
   "source": [
    " `ctrl+a, then d`"
   ]
  },
  {
   "cell_type": "markdown",
   "id": "dfac978c",
   "metadata": {},
   "source": [
    "Note that when you press `ctrl+a` nothing will seem to happen. However, after pressing `d`, the screen will change and you will return to your original command line prompt.  You'll see a report that you have successfully detached.\n"
   ]
  },
  {
   "cell_type": "markdown",
   "id": "6fd05682",
   "metadata": {},
   "source": [
    "`[detached from 64566.pts-12.ip-172-31-79-89]`"
   ]
  },
  {
   "cell_type": "markdown",
   "id": "00bf7439",
   "metadata": {},
   "source": [
    "## Killing the screen\n",
    "\n",
    "To kill the screen, type `Ctrl+d` or `Ctrl+a`, then press `k` and confirm with `y`. It will report that you have terminated the screen session."
   ]
  },
  {
   "cell_type": "markdown",
   "id": "6aa6c29f",
   "metadata": {},
   "source": [
    " `screen -r 64566 [screen is terminating]`"
   ]
  },
  {
   "cell_type": "markdown",
   "id": "0b389d04",
   "metadata": {},
   "source": [
    "## Reattaching\n",
    "\n",
    "If re-attaching a screen session already in progress, type:"
   ]
  },
  {
   "cell_type": "code",
   "execution_count": null,
   "id": "babf5c24",
   "metadata": {},
   "outputs": [],
   "source": [
    "screen -r"
   ]
  },
  {
   "cell_type": "markdown",
   "id": "9de4002e",
   "metadata": {},
   "source": [
    "If more than one session is in progress, it will give you a list of options. Once you determine which session you wish to resume, just enter the name after the -r\n",
    "$ screen -r\n",
    "There are several suitable screens on:\n",
    "    64566.pts-12.ip-172-31-79-89    (07/29/2019 09:39:34 PM)    (Detached)\n",
    "    48100.pts-5.ip-172-31-79-89    (07/27/2019 03:55:59 PM)    (Detached)\n",
    "Type \"screen [-d] -r [pid.]tty.host\" to resume one of them.\n",
    "$ screen -r 64566\n"
   ]
  },
  {
   "cell_type": "code",
   "execution_count": null,
   "id": "dea5602b",
   "metadata": {},
   "outputs": [],
   "source": [
    "screen -r"
   ]
  },
  {
   "cell_type": "markdown",
   "id": "ad99a814",
   "metadata": {},
   "source": [
    "`There are several suitable screens on:\n",
    "    64566.pts-12.ip-172-31-79-89    (07/29/2019 09:39:34 PM)    (Detached)\n",
    "    48100.pts-5.ip-172-31-79-89    (07/27/2019 03:55:59 PM)    (Detached)\n",
    "Type \"screen [-d] -r [pid.]tty.host\" to resume one of them.`"
   ]
  },
  {
   "cell_type": "code",
   "execution_count": null,
   "id": "b84a7c10",
   "metadata": {},
   "outputs": [],
   "source": [
    "screen -r 64566"
   ]
  }
 ],
 "metadata": {
  "kernelspec": {
   "display_name": "Bash",
   "language": "bash",
   "name": "bash"
  },
  "language_info": {
   "codemirror_mode": "shell",
   "file_extension": ".sh",
   "mimetype": "text/x-sh",
   "name": "bash"
  }
 },
 "nbformat": 4,
 "nbformat_minor": 5
}
