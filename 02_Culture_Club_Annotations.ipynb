{
 "cells": [
  {
   "cell_type": "markdown",
   "id": "7f4c6a2c",
   "metadata": {},
   "source": [
    "# Culture Club: Exploring Genome Annotations\n",
    "\n",
    "We'll be working with a metagenome-assembled genome (MAG) from a Trunk River sample taken in 2018 (near_lem_2018). This MAG had 13x coverage in the metagenome (compared to 2000x for a green sulfur bacteria in the same sample!).\n",
    "\n",
    "Bin ID: `near_lem_2018_bin.22`\n",
    "\n",
    "Classification: `d__Bacteria;p__Verrucomicrobiota;c__Verrucomicrobiae;o__Chthoniobacterales;f__;g__;s__`"
   ]
  },
  {
   "cell_type": "markdown",
   "id": "f6127243",
   "metadata": {},
   "source": [
    "| Variable | Value |\n",
    "| --- | --- |\n",
    "| Bin Id | near_lem_2018_bin.22 |\n",
    "| Coverage | 13.0 |\n",
    "| Completeness | 96.28 |\n",
    "| Contamination | 3.21 |\n",
    "| Genome size (bp) | 2558784 |\n",
    "| \\# scaffolds | 244 |\n",
    "| N50 (scaffolds) | 15575 | \n",
    "| Mean scaffold length (bp) | 10486 |\n",
    "| Longest scaffold (bp) | 62331 |\n",
    "| GC | 64.1 |\n",
    "| \\# predicted genes | 2655 |"
   ]
  },
  {
   "cell_type": "markdown",
   "id": "3049b86f",
   "metadata": {},
   "source": [
    "Open reading frames (ORFs):  2614\n",
    "\n",
    "Called with prodigal (v 2.6.3) in a conda environment. \n",
    "\n",
    "- Why are there fewer ORFs than predicted genes in the table above?\n"
   ]
  },
  {
   "cell_type": "markdown",
   "id": "ca33a1df",
   "metadata": {},
   "source": [
    "Annotations for these genes were done using blastKOALA (https://www.kegg.jp/blastkoala/). KEGG provides a web server where you can upload a .fasta file of your ORFs and receieve a table of K numbers (KEGG identifiers) assigned to each gene. This can take a little while, so you can download pre-computed results here: **HERE!!!!** ."
   ]
  },
  {
   "cell_type": "code",
   "execution_count": null,
   "id": "ca919c37",
   "metadata": {},
   "outputs": [],
   "source": []
  }
 ],
 "metadata": {
  "kernelspec": {
   "display_name": "Bash",
   "language": "bash",
   "name": "bash"
  },
  "language_info": {
   "codemirror_mode": "shell",
   "file_extension": ".sh",
   "mimetype": "text/x-sh",
   "name": "bash"
  }
 },
 "nbformat": 4,
 "nbformat_minor": 5
}
