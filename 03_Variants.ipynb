{
 "cells": [
  {
   "cell_type": "markdown",
   "id": "a4352473",
   "metadata": {},
   "source": [
    "# Detecting variation\n",
    "\n",
    "Today, we'll be comparing reads from a 2018 Trunk River metagenome to the published sequence of a purple nonsulfur bacterium _Rhodovulum sulfidophilum_.\n",
    "\n",
    "First, build a bowtie index of the reference genome fasta file (`Rs_AB26.fasta`). Rs_AB26 will be the base name of the generated index files."
   ]
  },
  {
   "cell_type": "code",
   "execution_count": null,
   "id": "13569fa1",
   "metadata": {},
   "outputs": [],
   "source": [
    "bowtie2-build Rs_AB26.fasta Rs_AB26"
   ]
  },
  {
   "cell_type": "markdown",
   "id": "3fc3fadc",
   "metadata": {},
   "source": [
    "Now map the metagenome reads (XXX and XXX) to the AB26 reference genome."
   ]
  },
  {
   "cell_type": "code",
   "execution_count": null,
   "id": "31224cff",
   "metadata": {},
   "outputs": [],
   "source": [
    "bowtie2 --local -p 4 -x Rs_AB26 \\\n",
    "-1 near_lem_2018_R1.fastq.gz -2 near_lem_2018_R2.fastq.gz \\\n",
    "-S nearlem_vs_Rs_AB26.sam --no-unal"
   ]
  },
  {
   "cell_type": "code",
   "execution_count": null,
   "id": "0f573c0e",
   "metadata": {},
   "outputs": [],
   "source": []
  }
 ],
 "metadata": {
  "kernelspec": {
   "display_name": "Bash",
   "language": "bash",
   "name": "bash"
  },
  "language_info": {
   "codemirror_mode": "shell",
   "file_extension": ".sh",
   "mimetype": "text/x-sh",
   "name": "bash"
  }
 },
 "nbformat": 4,
 "nbformat_minor": 5
}
