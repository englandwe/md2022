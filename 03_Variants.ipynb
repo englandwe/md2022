{
 "cells": [
  {
   "cell_type": "markdown",
   "id": "a4352473",
   "metadata": {},
   "source": [
    "# Detecting variation\n",
    "\n",
    "Today, we'll be comparing reads from a 2018 Trunk River metagenome to a MAG (metagenome-assembled genome) from the same metagenome to examine variation in the population. Since these steps require some computing power and time, I've pre-computed the full analysis and pulled out a subset as an example.\n",
    "\n",
    "## Step 0: Data acquisition\n",
    "\n",
    "Make a new working directory in your group folder.  Copy the starting data to the new folder and decompress it.\n",
    "\n",
    "\n"
   ]
  },
  {
   "cell_type": "code",
   "execution_count": null,
   "id": "d404ef70",
   "metadata": {},
   "outputs": [],
   "source": [
    "cp /datahaus/variants/mini_example/student_data.zip ."
   ]
  },
  {
   "cell_type": "code",
   "execution_count": null,
   "id": "38495c15",
   "metadata": {},
   "outputs": [],
   "source": [
    "unzip student_data.zip"
   ]
  },
  {
   "cell_type": "markdown",
   "id": "5d738b6a",
   "metadata": {},
   "source": [
    "## Step 1: read mapping\n",
    "The first step is to map the metagenome reads to the reference \"genome\" - the contigs from the metagenomic assembly. Though we're only interested in one MAG for now, I've mapped reads to contigs from all the MAGs.\n",
    "\n",
    "- _Why map all the reads to all the contigs? Why not just map to the MAG we're interested in?_\n",
    "\n",
    "Knowing which reads map where, I've extracted a subset of reads that map to the MAG from bin28. We'll work with that for set for now.\n",
    "\n",
    "First, build a bowtie index of the fasta file containing the bin contigs (`near_lem_2018_bin.28.fa`). `near_lem_bin28` will be the base name of the generated index files."
   ]
  },
  {
   "cell_type": "code",
   "execution_count": null,
   "id": "e6755b6d",
   "metadata": {},
   "outputs": [],
   "source": [
    "bowtie2-build near_lem_2018_bin.28.fa near_lem_bin28"
   ]
  },
  {
   "cell_type": "markdown",
   "id": "3fc3fadc",
   "metadata": {},
   "source": [
    "Now map the metagenome reads (`near_lem_2018_R1_bin28.fastq.gz` and `near_lem_2018_R2_bin28.fastq.gz`) to this reference using bowtie2.  This may take ~15 minutes; `screen` might be useful."
   ]
  },
  {
   "cell_type": "code",
   "execution_count": null,
   "id": "31224cff",
   "metadata": {},
   "outputs": [],
   "source": [
    "bowtie2 --local -p 4 -x near_lem_bin28 \\\n",
    "-1 near_lem_2018_R1_bin28.fastq.gz -2 near_lem_2018_R2_bin28.fastq.gz \\\n",
    "-S near_lem_bin28_vs_near_lem_bin28.sam --no-unal"
   ]
  },
  {
   "cell_type": "markdown",
   "id": "18a618a8",
   "metadata": {},
   "source": [
    "Then convert the .sam file to a .bam file."
   ]
  },
  {
   "cell_type": "code",
   "execution_count": null,
   "id": "8b2d8949",
   "metadata": {
    "scrolled": true
   },
   "outputs": [],
   "source": [
    "samtools view -b near_lem_bin28_vs_near_lem_bin28.sam \\\n",
    "> near_lem_bin28_vs_near_lem_bin28.bam"
   ]
  },
  {
   "cell_type": "markdown",
   "id": "0384b219",
   "metadata": {},
   "source": [
    "## Step 2: Gene Predictions\n",
    "\n",
    "InStrain can give us a gene-level analysis of variation if we provide it a gene file. We'll use prodigal to predict genes. (If you tried prokka during the genome assembly & annotation workshop, prodigal is what prokka uses to predict genes)."
   ]
  },
  {
   "cell_type": "code",
   "execution_count": null,
   "id": "101ef2da",
   "metadata": {},
   "outputs": [],
   "source": [
    "prodigal -a near_lem_bin28.faa -d near_lem_bin28.fna \\\n",
    "-f gff -i near_lem_2018_bin.28.fa -o near_lem_bin28.gff"
   ]
  },
  {
   "cell_type": "markdown",
   "id": "1ef7b5fc",
   "metadata": {},
   "source": [
    "## Step 3: Find variable positions\n",
    "\n",
    "Now, use inStrain's profile function to compare the reads to the reference genome (~15 mins for a single genome, longer for metagenomes)."
   ]
  },
  {
   "cell_type": "code",
   "execution_count": null,
   "id": "90dc8b2b",
   "metadata": {},
   "outputs": [],
   "source": [
    "inStrain profile -o instrain_near_lem_bin28 -p 4 \\\n",
    "-g near_lem_bin28.fna \\\n",
    "near_lem_bin28_vs_near_lem_bin28.bam near_lem_2018_bin.28.fa"
   ]
  },
  {
   "cell_type": "markdown",
   "id": "735befd2",
   "metadata": {},
   "source": [
    "InStrain's output will go to the directory `instrain_near_lem_bin28`. The `output` folder contains several .tsv files, which are described in detail here: https://instrain.readthedocs.io/en/latest/example_output.html .\n",
    "\n",
    "**Note: all positions in these files are numbered starting from 0.  Be careful when comparing to 1-based genome positions!**\n",
    "\n",
    "Briefly, \\*_SNVs.tsv contains a list of all single-nucleotide variants (SNVs). \\*gene_info.tsv, \\*scaffold_info.tsv, and \\*genome_info.tsv contain summaries of variation at the gene, scaffold, and genome (in our case, MAG) level. \\*linkage.tsv contains info about how frequently SNVs occur on the same read.\n",
    "\n",
    "- _What type of variation would linkage information be useful for detecting?_\n",
    "\n",
    "These files are all tab-separated text files and can be downloaded to your computer and opened in your favorite spreadsheet program."
   ]
  },
  {
   "cell_type": "markdown",
   "id": "b93dccc7",
   "metadata": {},
   "source": [
    "## Step 4: Exploration\n",
    "\n",
    "Bin28 has been identified as purple nonsulfur bacterium from the genus _Rhodovulum_.\n",
    "\n",
    "Some questions to ask:\n",
    "- How many SNVs are present in the genome?\n",
    "- Which genes in the Rhodovulum MAG have the most SNVs?  The least?  What do they do? (BLAST is your friend) \n",
    "- Are there regions with multiple highly-linked SNVs?"
   ]
  }
 ],
 "metadata": {
  "kernelspec": {
   "display_name": "Bash",
   "language": "bash",
   "name": "bash"
  },
  "language_info": {
   "codemirror_mode": "shell",
   "file_extension": ".sh",
   "mimetype": "text/x-sh",
   "name": "bash"
  }
 },
 "nbformat": 4,
 "nbformat_minor": 5
}
