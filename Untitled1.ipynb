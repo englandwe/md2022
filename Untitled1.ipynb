{
 "cells": [
  {
   "cell_type": "markdown",
   "id": "a017b8d0",
   "metadata": {},
   "source": [
    "# Genome annotation\n",
    "\n",
    "Now that you have an assembled genome, it's time to see what it can do! There are many annotation pipelines available; today we'll be using prokka, which specializes in bacterial and archaeal genome annotation. Prokka will use hidden Markov models (HMMs) to find open reading frames (ORFs), tRNAs, rRNAs, and other genomic elements.\n",
    "\n",
    "Prokka is simple to run, but has lots of options.  You can run it with no arguments to see everything it can do."
   ]
  },
  {
   "cell_type": "code",
   "execution_count": null,
   "id": "e8016377",
   "metadata": {},
   "outputs": [],
   "source": [
    "prokka"
   ]
  },
  {
   "cell_type": "markdown",
   "id": "5a728037",
   "metadata": {},
   "source": [
    "Run a basic annotation on your assembled genome:"
   ]
  },
  {
   "cell_type": "code",
   "execution_count": null,
   "id": "184724b3",
   "metadata": {},
   "outputs": [],
   "source": [
    "prokka --cpus 2 --mincontiglen 200 --outdir PROKKA_OUTPUT --prefix YOUR_GENOME_NAME scaffolds.fasta"
   ]
  },
  {
   "cell_type": "markdown",
   "id": "238e2101",
   "metadata": {},
   "source": [
    "In your PROKKA_OUTPUT directory, you'll find several output files.\n",
    "\n",
    "- The .gff and .gbk files contain the annotation info (same data, two formats)\n",
    "- The .ffn file contains the gene nucleotide sequences\n",
    "- The .faa file contains the protein sequences\n",
    "- The .txt file contains a summary of the features prokka annotated\n"
   ]
  },
  {
   "cell_type": "markdown",
   "id": "e09cdc0c",
   "metadata": {},
   "source": [
    "Next we'll visualize your annotations using IGV.  You can use the web app here (https://igv.org/app/) or download and install it on your laptop.\n",
    "\n",
    "Copy your .gff files from prokka and your .fasta and .fai files from your assembly to your computer using Cyberduck, winSCP, or your preferred file transfer tool.\n",
    "\n",
    "Load your reference genome into IGV (Genome -> Local file...; select your .fasta)\n",
    "\n",
    "Load your annotations as a track (Tracks -> Local file...; select your .gff)"
   ]
  }
 ],
 "metadata": {
  "kernelspec": {
   "display_name": "Bash",
   "language": "bash",
   "name": "bash"
  },
  "language_info": {
   "codemirror_mode": "shell",
   "file_extension": ".sh",
   "mimetype": "text/x-sh",
   "name": "bash"
  }
 },
 "nbformat": 4,
 "nbformat_minor": 5
}
