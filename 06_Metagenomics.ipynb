{
 "cells": [
  {
   "cell_type": "markdown",
   "id": "458f8a65",
   "metadata": {},
   "source": [
    "# Metagenomic analysis with anvi’o\n",
    "\n",
    "Anvi’o is a powerful tool for analysis of metagenomic assemblies which integrates some pretty excellent visualizations.  Today, we’re going to use some previously-assembled metagenomes from the 2018 course: three Salt Pond metagenomes from varying depths.\n",
    "\n",
    "\n",
    "## Step 0: Get Ready\n",
    "\n",
    "We'll start by using anvi'o on the server. Much like QIIME, we need to load a conda environment specific to anvi’o.  \n"
   ]
  },
  {
   "cell_type": "code",
   "execution_count": null,
   "id": "ae8aa223",
   "metadata": {},
   "outputs": [],
   "source": [
    "conda activate anvio-7.1"
   ]
  },
  {
   "cell_type": "markdown",
   "id": "777cd5a6",
   "metadata": {},
   "source": [
    "Anvi’o requires two basic inputs to work: a FASTA file of your assembly contigs, and BAM files of your metagenome reads aligned to those contigs.  We’ve prepared these for you in /datahaus/metagenomes. Each member of your group should pick one of the three metagenomes; ensure that all three are represented across your group.\n"
   ]
  },
  {
   "cell_type": "code",
   "execution_count": null,
   "id": "8705bd6d",
   "metadata": {},
   "outputs": [],
   "source": [
    "mkdir /YOUR_GROUP/YOUR_DIRECTORY/metagenomes"
   ]
  },
  {
   "cell_type": "code",
   "execution_count": null,
   "id": "8236f964",
   "metadata": {},
   "outputs": [],
   "source": [
    "cd /YOUR_GROUP/YOUR_DIRECTORY/metagenomes"
   ]
  },
  {
   "cell_type": "code",
   "execution_count": null,
   "id": "7e33a87e",
   "metadata": {},
   "outputs": [],
   "source": [
    "cp /datahaus/metagenomes/saltpond.zip ."
   ]
  },
  {
   "cell_type": "markdown",
   "id": "139309f0",
   "metadata": {},
   "source": [
    "## Step 1:  Load contigs into an anvi’o database.  \n",
    "\n",
    "Reads from each metagenome have been mapped to a single set of contigs generated from assemblies of the corresponding metagenomes; this file is called saltpond_contigs_top1k.fasta.  For demonstration purposes, this file includes only the 1000 longest contigs.\n",
    "\n",
    "Use the following command to generate a contig database (~4 mins):"
   ]
  },
  {
   "cell_type": "code",
   "execution_count": null,
   "id": "953c2d32",
   "metadata": {},
   "outputs": [],
   "source": [
    "anvi-gen-contigs-database -f saltpond_contigs_top1k.fasta \\\n",
    "-o saltpond_contigs.db -n 'saltpond' -T 4"
   ]
  },
  {
   "cell_type": "markdown",
   "id": "da3e835f",
   "metadata": {},
   "source": [
    "This command will do a few useful things:\n",
    "\n",
    "- Calculate tetranucleotide frequencies for all contigs\n",
    "- Split long contigs (>20kb) into smaller bits\n",
    "- Predict ORFs on contigs using Prodigal \n",
    "- Store all that in a contigs database called saltpond_contigs.db."
   ]
  },
  {
   "cell_type": "markdown",
   "id": "38dc01c3",
   "metadata": {},
   "source": [
    "## Step 2: Identify genes on contigs\n",
    "This command will use HMMER to identify hits in the predicted genes on your contigs to ribosomal RNAs and known single-copy core genes from bacteria, archaea, and eukaryotes (~2 mins).\n"
   ]
  },
  {
   "cell_type": "code",
   "execution_count": null,
   "id": "a7c73e32",
   "metadata": {},
   "outputs": [],
   "source": [
    "anvi-run-hmms -c saltpond_contigs.db -T 4"
   ]
  },
  {
   "cell_type": "markdown",
   "id": "f0a989fd",
   "metadata": {},
   "source": [
    "The -c flag tells anvio which contig database to use, and the -T flag allows us to use multiple processors, because we’re impatient people. \n",
    "\n",
    "We can also use NCBI’s Cluster of Orthologous Genes (COGs) to try and identify those ORFs (~4 mins):"
   ]
  },
  {
   "cell_type": "code",
   "execution_count": null,
   "id": "b8a73f93",
   "metadata": {},
   "outputs": [],
   "source": [
    "anvi-run-ncbi-cogs -c saltpond_contigs.db -T 4 \\\n",
    "--cog-data-dir /opt/anvio_cog_data"
   ]
  },
  {
   "cell_type": "markdown",
   "id": "65b05eaa",
   "metadata": {},
   "source": [
    "And use sequences from the GTDB to assign taxonomy. (~1 min):"
   ]
  },
  {
   "cell_type": "code",
   "execution_count": null,
   "id": "480c9527",
   "metadata": {},
   "outputs": [],
   "source": [
    " anvi-run-scg-taxonomy -c saltpond_contigs.db -T 4 \\\n",
    " --min-percent-identity 80 --debug"
   ]
  },
  {
   "cell_type": "markdown",
   "id": "d9ad1b44",
   "metadata": {},
   "source": [
    "We can now pick a specific marker gene and see what the taxonomic composition of our metagenome looks like based on solely that gene."
   ]
  },
  {
   "cell_type": "code",
   "execution_count": null,
   "id": "96ab7554",
   "metadata": {},
   "outputs": [],
   "source": [
    "anvi-estimate-scg-taxonomy -c saltpond_contigs.db \\\n",
    "--metagenome-mode -S Ribosomal_L16"
   ]
  },
  {
   "cell_type": "markdown",
   "id": "31ec06ff",
   "metadata": {},
   "source": [
    "- _Do taxonomy estimates change for different marker genes?_"
   ]
  },
  {
   "cell_type": "markdown",
   "id": "8e3539c3",
   "metadata": {},
   "source": [
    "Side Note:  You can also import other useful pieces of information about your contigs, such as gene calls you’ve previously generated, into anvi’o.  Check out the anvi’o documentation for more info."
   ]
  },
  {
   "cell_type": "markdown",
   "id": "308699bb",
   "metadata": {},
   "source": [
    "## Step 3: Examine your contigs\n",
    "Let’s see what we just did to those contigs. Download the saltpond_contigs.db contigs database to your computer via Cyberduck, WinSCP, scp, etc. and start up your **local copy** of anvi’o.\n"
   ]
  },
  {
   "cell_type": "code",
   "execution_count": null,
   "id": "aa583ac8",
   "metadata": {},
   "outputs": [],
   "source": [
    "anvi-display-contigs-stats saltpond_contigs.db"
   ]
  },
  {
   "cell_type": "markdown",
   "id": "d7fc75d4",
   "metadata": {},
   "source": [
    "This command does what it says on the tin.  A browser window should open with a histogram of single-copy core genes and other assorted stats.  \n",
    "\n",
    "- _How many eukaryotic, archaeal, and bacterial genomes do we expect to see?_\n"
   ]
  },
  {
   "cell_type": "markdown",
   "id": "11331e1d",
   "metadata": {},
   "source": [
    "## Step 4: Profiling .bam files\n",
    "\n",
    "In addition to contig databases, anvi’o also uses profile databases to store information about individual samples.  A separate profile database is generated for each sample.  For now, you’re just working with one sample. \n",
    "\n",
    "These .bam files were generated by mapping reads from each individual sample to the top 1k contigs using bowtie2, just like the read mapping from our genome assembly workshop.\n",
    "\n",
    "Replace XXX with your sample (350, 375, 400) and run this command to generate a profile database (~3 mins).\n"
   ]
  },
  {
   "cell_type": "code",
   "execution_count": null,
   "id": "dce29328",
   "metadata": {},
   "outputs": [],
   "source": [
    "anvi-profile -i SPXXX_top1k_sorted.bam -c saltpond_contigs.db \\\n",
    "-o SPXXX_profile -S SPXXX -T 4"
   ]
  },
  {
   "cell_type": "markdown",
   "id": "2c184772",
   "metadata": {},
   "source": [
    "This command processes all contigs over 1,000bp (you can change this value if you wish). As part of profiling, anvi’o compares reads from the sample to your contigs and calculates the mean and standard deviation of coverage, as well as identifying any positions with single nucleotide polymorphisms (SNPs)."
   ]
  },
  {
   "cell_type": "markdown",
   "id": "bef00b52",
   "metadata": {},
   "source": [
    "## Step 5: Merge profiles\n",
    "\n",
    "While you can use anvi’o with a single sample, it’s much more fun with multiple metagenomes.  Now that you’ve gotten one metagenome ready, go copy the PROFILE.db file for the other two metagenomes from your group members.  Make sure to keep them in separate directories!\n"
   ]
  },
  {
   "cell_type": "code",
   "execution_count": null,
   "id": "a0aa36c2",
   "metadata": {},
   "outputs": [],
   "source": [
    "cp -r /YOUR_GROUP_DIR/SOMEONE_ELSES_DIR/SPXXX_profile . #x2"
   ]
  },
  {
   "cell_type": "markdown",
   "id": "9050a937",
   "metadata": {},
   "source": [
    "Now merge your samples into a single profile.  This step will also attempt to hierarchically cluster your contigs."
   ]
  },
  {
   "cell_type": "code",
   "execution_count": null,
   "id": "e6742c21",
   "metadata": {},
   "outputs": [],
   "source": [
    "anvi-merge SP350_profile/PROFILE.db SP375_profile/PROFILE.db \\\n",
    "SP400_profile/PROFILE.db -o saltpond_merged \\\n",
    "-S saltpond_merged -c saltpond_contigs.db"
   ]
  },
  {
   "cell_type": "markdown",
   "id": "d1c6be6f",
   "metadata": {},
   "source": [
    "## Step 6: Binning\n",
    "\n",
    "Binning allows us to take our metagenomic contigs and cluster them into bins, allowing us to create MAGs.  You can invoke several popular binning algorithms from within anvi'o, but this is considered an experimental feature.  You could also export your contigs from anvi'o, bin them as you prefer, and reimport them into anvi'o for visualization.\n",
    "\n",
    "We'll be binning using CONCOCT, which uses differential COverage among metagenomes and base COmposition (tetranucleotide frequencies) to cluster contigs."
   ]
  },
  {
   "cell_type": "code",
   "execution_count": null,
   "id": "0e541a91",
   "metadata": {},
   "outputs": [],
   "source": [
    "anvi-cluster-contigs -p saltpond_merged/PROFILE.db \\\n",
    "-c saltpond_contigs.db -C concoct_bins --driver concoct --just-do-it"
   ]
  },
  {
   "cell_type": "markdown",
   "id": "e9d89a17",
   "metadata": {},
   "source": [
    "## Step 7: Visualization and bin refinement\n",
    "\n",
    "This is where we switch from anvi’o on the server to your locally-installed copy of anvi’o.  Download your **contigs database (again)** and **merged profile database directory** using your preferred method (scp, Cyberduck, WinSCP, etc.).  Now, on your computer, load the anvi’o visualizations.\n"
   ]
  },
  {
   "cell_type": "code",
   "execution_count": null,
   "id": "eba77818",
   "metadata": {},
   "outputs": [],
   "source": [
    "anvi-interactive -p saltpond_merged/PROFILE.db -c saltpond_contigs.db"
   ]
  },
  {
   "cell_type": "markdown",
   "id": "daee8d08",
   "metadata": {},
   "source": [
    "Some things to try:\n",
    "- Blast a contig (\"split\")\n",
    "- Find a SNP and identify which gene it's in\n",
    "- Load your CONCOCT bins and check out taxonomy estimates\n",
    "- Evaluate bin quality using completion and redundancy\n",
    "- Pick a high-completion, high-redundancy bin to refine"
   ]
  },
  {
   "cell_type": "markdown",
   "id": "dc5acee6",
   "metadata": {},
   "source": [
    "You can generate a static summary page of your bins through the interactive interface, or from the command line:"
   ]
  },
  {
   "cell_type": "code",
   "execution_count": null,
   "id": "48cd47ef",
   "metadata": {},
   "outputs": [],
   "source": [
    "anvi-summarize -p saltpond_merged/PROFILE.db \\\n",
    "-c saltpond_contigs.db -C concoct_bins -o concoct_bin_summary"
   ]
  },
  {
   "cell_type": "markdown",
   "id": "1a3827c0",
   "metadata": {},
   "source": [
    "Check out the .html file this command produces for a summary of your data.  The other folders that are generated contain all kinds of goodies you may find useful, including fasta files of all the contigs in each bin.\n",
    "\n",
    "Anvi'o also has an interactive bin refinement tool, `anvi-refine`.  Replace `Bin_X` with the bin you chose to refine and open `anvi-refine`:"
   ]
  },
  {
   "cell_type": "code",
   "execution_count": null,
   "id": "3e59acf7",
   "metadata": {},
   "outputs": [],
   "source": [
    "anvi-refine -p saltpond_merged/PROFILE.db \\\n",
    "-c saltpond_contigs.db -C concoct_bins -b Bin_X"
   ]
  },
  {
   "cell_type": "markdown",
   "id": "400c47ed",
   "metadata": {},
   "source": [
    "For guidelines on bin refinement, check out:\n",
    "\n",
    "https://merenlab.org/2016/06/09/assessing-completion-and-contamination-of-MAGs/\n",
    "\n",
    "https://merenlab.org/2015/05/11/anvi-refine/\n",
    "\n",
    "https://merenlab.org/2017/05/11/anvi-refine-by-veronika/"
   ]
  }
 ],
 "metadata": {
  "kernelspec": {
   "display_name": "Bash",
   "language": "bash",
   "name": "bash"
  },
  "language_info": {
   "codemirror_mode": "shell",
   "file_extension": ".sh",
   "mimetype": "text/x-sh",
   "name": "bash"
  }
 },
 "nbformat": 4,
 "nbformat_minor": 5
}
