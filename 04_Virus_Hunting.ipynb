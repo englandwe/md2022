{
 "cells": [
  {
   "cell_type": "markdown",
   "id": "d42648b6",
   "metadata": {},
   "source": [
    "# Identification of Viruses\n",
    "\n",
    "Mobile genetic elements can be identified in genomes and metagenomes using both homology to known reference elements, sequence characteristics (e.g., GC%, k-mer composition) and genomic context. Virsorter2 can use both reference-dependent and reference-independent methods to detect viruses in single genomes and metagenomes. \n",
    "\n",
    "This workshop is adapted from the current VirSorter2 SOP (V3: https://www.protocols.io/view/viral-sequence-identification-sop-with-virsorter2-5qpvoyqebg4o).  More details on installation of the tools and manual checking of viral hits can be found in the original protocol."
   ]
  },
  {
   "cell_type": "markdown",
   "id": "303f81b6",
   "metadata": {},
   "source": [
    "## Step 0: Get ready\n",
    "\n",
    "All our tools today are installed in a conda environment.  To activate it:"
   ]
  },
  {
   "cell_type": "code",
   "execution_count": null,
   "id": "130512b2",
   "metadata": {},
   "outputs": [],
   "source": [
    "conda activate vs2"
   ]
  },
  {
   "cell_type": "markdown",
   "id": "69e5223d",
   "metadata": {},
   "source": [
    "We'll be searching for integrated viruses in a _Vibrio alginolyticus_ isolated by Dallas Mould during the 2021 course. Make a new directory to work in (use your personal directory in your group's folder) and copy the data."
   ]
  },
  {
   "cell_type": "code",
   "execution_count": null,
   "id": "4917f5d7",
   "metadata": {},
   "outputs": [],
   "source": [
    "mkdir /YOUR_GROUP/YOUR_NAME/virus_hunting"
   ]
  },
  {
   "cell_type": "code",
   "execution_count": null,
   "id": "30cab925",
   "metadata": {},
   "outputs": [],
   "source": [
    "cd /YOUR_GROUP/YOUR_NAME/virus_hunting"
   ]
  },
  {
   "cell_type": "code",
   "execution_count": null,
   "id": "2929de32",
   "metadata": {},
   "outputs": [],
   "source": [
    "cp /datahaus/viruses/virus_data.zip ."
   ]
  },
  {
   "cell_type": "code",
   "execution_count": null,
   "id": "2ae74182",
   "metadata": {},
   "outputs": [],
   "source": [
    "unzip virus_data.zip"
   ]
  },
  {
   "cell_type": "markdown",
   "id": "ca1a785c",
   "metadata": {},
   "source": [
    "You should now have a .fasta file continaing the assembled genome contigs (`DLM_007.fasta`), as well as 2 directories (`vs2-pass1-EXAMPLE` and `vs2-pass2-EXAMPLE`). The EXAMPLE directories contain results from steps 1 and 3 below, as these steps take ~20 minutes to run. You can use these in place of your own results if they're not ready in time."
   ]
  },
  {
   "cell_type": "markdown",
   "id": "aec16290",
   "metadata": {},
   "source": [
    "## Step 1: Identify viruses with VirSorter2\n",
    "\n",
    "For this run, we'll focus on phages; `--include-groups dsDNAphage,ssDNA` will limit the groups we're searching for. The minimum viral length is 5000bp, due to requirements for downstream programs 0.5 is a loose score cutoff; more viruses will be captured, but some host genes may be included. The \"--keep-original-seq\" retains contigs that are nearly fully viral; any remaining host genes will be trimmed in a later step."
   ]
  },
  {
   "cell_type": "code",
   "execution_count": null,
   "id": "86764b90",
   "metadata": {},
   "outputs": [],
   "source": [
    "virsorter run --keep-original-seq -i DLM_007.fasta -w vs2-pass1 \\\n",
    "--include-groups dsDNAphage,ssDNA --min-length 5000 \\\n",
    "--min-score 0.5 -j 4 all"
   ]
  },
  {
   "cell_type": "markdown",
   "id": "4c91c4eb",
   "metadata": {},
   "source": [
    "## Step 2: Trim with CheckV\n",
    "\n",
    "CheckV can do quality control for the VirSorter2 results and trim any host sequence left at the ends of integrated viruses. This step should take < 5 minutes to run."
   ]
  },
  {
   "cell_type": "code",
   "execution_count": null,
   "id": "7853e3cf",
   "metadata": {},
   "outputs": [],
   "source": [
    "checkv end_to_end vs2-pass1/final-viral-combined.fa \\\n",
    "checkv_out_time -t 3 -d /opt/checkv_db/checkv-db-v1.2"
   ]
  },
  {
   "cell_type": "markdown",
   "id": "bb84eeed",
   "metadata": {},
   "source": [
    "## Step 3: VirSorter, too\n",
    "\n",
    "Now, combine the viruses and proviruses and run the trimmed sequences through VirSorter2 one more time. This primarily to generate an output file needed for the next step, DRAMv (`affi-contigs.tab`). `--seqname-suffix-off`, `--viral-gene-enrich-off`, and `--provirus-off` turn off VirSorter2's screening and renaming functions."
   ]
  },
  {
   "cell_type": "code",
   "execution_count": null,
   "id": "a5ac7445",
   "metadata": {},
   "outputs": [],
   "source": [
    "cat checkv_out/proviruses.fna checkv_out/viruses.fna > checkv_out/combined.fna"
   ]
  },
  {
   "cell_type": "code",
   "execution_count": null,
   "id": "3bfaac0c",
   "metadata": {},
   "outputs": [],
   "source": [
    "virsorter run --seqname-suffix-off --viral-gene-enrich-off \\\n",
    "--provirus-off --prep-for-dramv -i checkv_out/combined.fna \\\n",
    "-w vs2-pass2 --include-groups dsDNAphage,ssDNA \\\n",
    "--min-length 5000 --min-score 0.5 -j 4 all"
   ]
  },
  {
   "cell_type": "markdown",
   "id": "6a50f71a",
   "metadata": {},
   "source": [
    "## Step 4: Annotation with DRAM-v\n",
    "\n",
    "DRAM-v will annotate the identified viral sequences; this will allow us to see which types of viral and host genes are present in the hits, which is valuable for quality checking. This will take ~3 minutes."
   ]
  },
  {
   "cell_type": "code",
   "execution_count": null,
   "id": "4b509aa5",
   "metadata": {},
   "outputs": [],
   "source": [
    "DRAM-v.py annotate -i vs2-pass2/for-dramv/final-viral-combined-for-dramv.fa \\\n",
    "-v vs2-pass2/for-dramv/viral-affi-contigs-for-dramv.tab \\\n",
    "-o dramv-annotate --skip_trnascan --threads 4 --min_contig_size 1000"
   ]
  },
  {
   "cell_type": "code",
   "execution_count": null,
   "id": "76126720",
   "metadata": {},
   "outputs": [],
   "source": [
    "DRAM-v.py distill -i dramv-annotate/annotations.tsv -o dramv-distill"
   ]
  },
  {
   "cell_type": "markdown",
   "id": "4ef529ab",
   "metadata": {},
   "source": [
    "## Step 5: Manual curation and screening\n",
    "\n",
    "Viral predictions are not an exact science; determining whether a VirSorter hit is \"real\" may require additional inspection.  The authors of VirSorter have put together some guidelines.\n",
    "\n",
    "Hits can be binned into the following categories:\n",
    "- Keep1: viral_gene >0\n",
    "- Keep2: viral_gene =0 AND (host_gene =0 OR score >=0.95 OR hallmark >2)\n",
    "- Manual check: (NOT in Keep1 OR Keep2) AND viral_gene =0 AND host_gene =1 AND length >=10kb\n",
    "- Discard: everything else\n",
    "\n",
    "`score` and `hallmark` are found in `vs2-pass1/final-viral-score.tsv`; `viral_gene` and `host_gene` are in `checkv_out/contamination.tsv`\n",
    "\n",
    "False-positives are possible in the Keep2 category due to genes that are present in both host and virus, such as the ones in this list: https://bitbucket.org/MAVERICLab/virsorter2-sop/raw/03b8f28bee979e2b7fd99d7375d915c29c938339/resource/suspicious-gene.list . You can look through the DRAM-v annotations for your Keep2 hits for these suspicious genes; any hits that have them should be moved to the manual check category.\n",
    "\n",
    "Hits designated manual check should be investigated more closely using DRAM-v annotations; some guidelines are here: https://www.protocols.io/view/viral-sequence-identification-sop-with-virsorter2-5qpvoyqebg4o/?step=5 .\n",
    "\n",
    "- _Which of the viral hits in this genome do you believe?_"
   ]
  },
  {
   "cell_type": "markdown",
   "id": "2266a3e7",
   "metadata": {},
   "source": [
    "If you want to leave the vs2 conda environment when you're finished:"
   ]
  },
  {
   "cell_type": "code",
   "execution_count": null,
   "id": "e0bd6060",
   "metadata": {},
   "outputs": [],
   "source": [
    "conda deactivate"
   ]
  }
 ],
 "metadata": {
  "kernelspec": {
   "display_name": "Bash",
   "language": "bash",
   "name": "bash"
  },
  "language_info": {
   "codemirror_mode": "shell",
   "file_extension": ".sh",
   "mimetype": "text/x-sh",
   "name": "bash"
  }
 },
 "nbformat": 4,
 "nbformat_minor": 5
}
