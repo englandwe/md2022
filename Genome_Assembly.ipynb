{
 "cells": [
  {
   "cell_type": "markdown",
   "id": "f1d7a9d5",
   "metadata": {},
   "source": [
    "# Genome Assembly and Annotation\n",
    "\n",
    "## De Novo Genome Assembly \n",
    "Genome assembly is a necessary task that has many confounding factors. The basic steps outlined below will give one possible assembly result. However, it is possible that using a different algorithm may yield different results. Therefore, it is incumbent upon the investigator to determine if further assembly attempts are required using different parameters, more/less data, or different algorithms entirely.\n"
   ]
  },
  {
   "cell_type": "markdown",
   "id": "74fd53b6",
   "metadata": {},
   "source": [
    "### Step 1: Retrieve fastq reads\n",
    "\n",
    "Genomes sequenced by previous students have been collected in this table: 02_Isolates_for_Assembly.xlsx (https://docs.google.com/spreadsheets/d/1DCJxfr_FYVzkxv46yWPnlcD8K90kyBpV/edit?usp=sharing&ouid=105012416008914218444&rtpof=true&sd=true).  Choose a sample that interests you and make a new directory to work in.  (Replace `my_group` with your group name and `my_example_assembly` with a reasonable folder name.)"
   ]
  },
  {
   "cell_type": "code",
   "execution_count": null,
   "id": "b6839ec0",
   "metadata": {},
   "outputs": [],
   "source": [
    "mkdir /my_group/my_example_assembly"
   ]
  },
  {
   "cell_type": "code",
   "execution_count": null,
   "id": "6cb8d4c2",
   "metadata": {},
   "outputs": [],
   "source": [
    "cd /my_group/my_example_assembly"
   ]
  },
  {
   "cell_type": "markdown",
   "id": "6aab42f6",
   "metadata": {},
   "source": [
    "Locate and copy a set of paired genome reads (both R1 and R2) into a local directory."
   ]
  },
  {
   "cell_type": "code",
   "execution_count": null,
   "id": "d6264c64",
   "metadata": {},
   "outputs": [],
   "source": [
    "cp /datahaus/genomes_for_assembly/FILE_PREFIX* ."
   ]
  },
  {
   "cell_type": "markdown",
   "id": "154e2d14",
   "metadata": {},
   "source": [
    "How many reads are in your fastq files? This command will decompress one of the fastq files and read the number of lines."
   ]
  },
  {
   "cell_type": "code",
   "execution_count": null,
   "id": "eeee7438",
   "metadata": {},
   "outputs": [],
   "source": [
    "zcat Sample_R1.fastq.gz | wc -l"
   ]
  },
  {
   "cell_type": "markdown",
   "id": "b85b96ce",
   "metadata": {},
   "source": [
    "How does the number of lines in the file relate to the number of sequences?"
   ]
  },
  {
   "cell_type": "markdown",
   "id": "21749673",
   "metadata": {},
   "source": [
    "### Step 2: Check sequence quality\n",
    "\n",
    "Tool of choice: FastQC\n",
    "\n",
    "Make an output directory for your results"
   ]
  },
  {
   "cell_type": "code",
   "execution_count": null,
   "id": "a016f290",
   "metadata": {},
   "outputs": [],
   "source": [
    "mkdir fastqc_out"
   ]
  },
  {
   "cell_type": "markdown",
   "id": "2b4f1c78",
   "metadata": {},
   "source": [
    "Run FastQC on both read files. `-o fastqc_out` tells the program to write results to the directory you just made."
   ]
  },
  {
   "cell_type": "code",
   "execution_count": null,
   "id": "ac188b30",
   "metadata": {},
   "outputs": [],
   "source": [
    "fastqc Sample_R1.fastq.gz Sample_R2.fastq.gz -o fastqc_out"
   ]
  },
  {
   "cell_type": "markdown",
   "id": "1835c16d",
   "metadata": {},
   "source": [
    "You can use `multiqc` to aggregate yout FastQC outputs."
   ]
  },
  {
   "cell_type": "code",
   "execution_count": null,
   "id": "9a0b18e5",
   "metadata": {},
   "outputs": [],
   "source": [
    "multiqc fastqc_out"
   ]
  },
  {
   "cell_type": "markdown",
   "id": "02fd064a",
   "metadata": {},
   "source": [
    "Check out the report (.html file). You can open it on the server with firefox (`firefox filename.html`) or download them to your computer and use your favorite browser (recommended).\n",
    "\n",
    "Questions to ask:\n",
    "\n",
    "- How many reads do you have? How long are they?\n",
    "- Are they of good quality? Is the quality poor at particular positions?\n",
    "- Are sequences duplicated or overrepresented?  Can you tell what they are?\n",
    "- Do they contain adapter sequences?\n"
   ]
  },
  {
   "cell_type": "markdown",
   "id": "f752148e",
   "metadata": {},
   "source": [
    "### Step 3: Trimming\n",
    "\n",
    "Trimming reads will allow us to remove parts of reads with poor quality.\n",
    "\n",
    "Tool of choice: Trimmomatic"
   ]
  },
  {
   "cell_type": "code",
   "execution_count": null,
   "id": "7ed96ebb",
   "metadata": {},
   "outputs": [],
   "source": [
    "trimmomatic PE -baseout YOURFILE.trimmed.fastq.gz \\\n",
    "Sample_R1.fastq.gz Sample_R2.fastq.gz \\\n",
    "ILLUMINACLIP:/opt/Trimmomatic-0.39/adapters/combined.fa:2:30:10 \\\n",
    "SLIDINGWINDOW:4:15 LEADING:2 TRAILING:2 MINLEN:100"
   ]
  },
  {
   "cell_type": "markdown",
   "id": "2cd0d3e6",
   "metadata": {},
   "source": [
    "That’s a mouthful. What does it do?\n",
    "\n",
    "- PE: These are paired-end reads. \n",
    "- baseout: Base name for your output files\n",
    "- ILLUMINACLIP: Trims the adapters in the given file (combined.fna) from the reads. The numbers specify the number of mismatches allowed and the minimum match quality for palindromic and simple adapter matches. \n",
    "- SLIDINGWINDOW: Moves along the read in chunks of 4bp and checks average quality; if it falls below 15, those bases are removed. \n",
    "- LEADING and TRAILING: Removes bases from the beginning and end of the read if the quality is below 2. \n",
    "- MINLEN: Removes reads shorter than 100bp after trimming is complete."
   ]
  },
  {
   "cell_type": "markdown",
   "id": "c33559c5",
   "metadata": {},
   "source": [
    "You should end up with 4 output files: \n",
    "\n",
    "- YOURFILE_1P.fastq.gz\n",
    "- YOURFILE_2P.fastq.gz\n",
    "- YOURFILE_1U.fastq.gz \n",
    "- YOURFILE_2U.fastq.gz \n",
    "\n",
    "1P & 2P contain paired reads where both reads survived trimming; 1U & 2U contain reads where the other read in the pair was lost.\n",
    "\n",
    "- What percentage of your reads made it through the trimming process?\n",
    "- How many lost their paired read?"
   ]
  },
  {
   "cell_type": "markdown",
   "id": "20402db5",
   "metadata": {},
   "source": [
    "### Step 4: Assemble reads into contigs with SPAdes\n",
    "\n",
    "There are many excellent genome assembly tools available, largely using overlap-layout-consensus (OLC) or de Brujin graph approaches.  Today we’ll use SPAdes, a graph-based assembler.\n",
    "\n",
    "Assembly time will be uncertain; consider using screen."
   ]
  },
  {
   "cell_type": "code",
   "execution_count": null,
   "id": "a5e7a034",
   "metadata": {},
   "outputs": [],
   "source": [
    "spades.py -o spades_assembly -1 /path/to/YOURFILE_1P.fq.gz \\\n",
    "-2 /path/to/YOURFILE_2P.fq.gz -t 2 -m 20"
   ]
  },
  {
   "cell_type": "markdown",
   "id": "34694ef2",
   "metadata": {},
   "source": [
    "Explanation: \n",
    "\n",
    "spades.py\n",
    "- -o output directory\n",
    "- -1 file of forward reads\n",
    "- -2 file of reverse reads\n",
    "- -t number of threads\n",
    "- -m maximum memory (SPAdes will abort if this limit is exceeded)\n",
    "\n",
    "When complete, fasta files of contigs (`contigs.fasta`) and scaffolds (`scaffolds.fasta`) will appear in your output directory, along with other output files.\n",
    "\n",
    "We can generate a quick summary of the assembly using QUAST:"
   ]
  },
  {
   "cell_type": "code",
   "execution_count": null,
   "id": "0a663aa4",
   "metadata": {},
   "outputs": [],
   "source": [
    "quast.py -o quast_output -t 2 /path/to/scaffolds.fasta"
   ]
  },
  {
   "cell_type": "markdown",
   "id": "61e36d0e",
   "metadata": {},
   "source": [
    "-t is the number of threads QUAST will use.  Results will appear in the directory specified after -o .  There are several formats available; try looking at `report.txt` or `report.tsv`."
   ]
  },
  {
   "cell_type": "markdown",
   "id": "26265cc3",
   "metadata": {},
   "source": [
    "### Step 5: Read mapping\n",
    "\n",
    "This approach to map reads can be used on entire or partial genomes, metagenomes, transcriptomes... any DNA or RNA region\\*. Most genome assembly algorithms produce just the contigs (contiguous stretches of DNA sequence) and/or scaffolds (contigs determined to be adjacent to one another, but lacking DNA sequences that physically overlap). Therefore, after assembling a (meta)genome it is common to re-map the reads to the contigs in order to understand how the reads actually constitute the contigs. Read coverage can be indicative of copy number and possibly biology (e.g., is it a plasmid? Is it a transposon?).\n",
    "\n",
    "\\*Unless you're working on eukaryotic RNA and need to take splicing into account. \n",
    "\n",
    "Now that we have acceptable reads and assembled contigs it’s time to align the two together!  \n",
    "\n",
    "Tool of choice: bowtie2\n",
    "\n",
    "First generate an index file of your contigs/genome sequence to accelerate read mapping:\n"
   ]
  },
  {
   "cell_type": "code",
   "execution_count": null,
   "id": "01ecdc78",
   "metadata": {},
   "outputs": [],
   "source": [
    "bowtie2-build scaffolds.fasta YOUR_GENOME_INDEX"
   ]
  },
  {
   "cell_type": "markdown",
   "id": "6c9e4cfb",
   "metadata": {},
   "source": [
    "Now map the paired reads to the genome sequence index:"
   ]
  },
  {
   "cell_type": "code",
   "execution_count": null,
   "id": "9032ba81",
   "metadata": {},
   "outputs": [],
   "source": [
    "bowtie2 --local -p 4 -x YOUR_GENOME_INDEX \\\n",
    "-1 trimmed_R1.fastq -2 trimmed_R2.fastq \\\n",
    "-S BOWTIE_OUTPUT.sam --no-unal"
   ]
  },
  {
   "cell_type": "markdown",
   "id": "15be062b",
   "metadata": {},
   "source": [
    "Your main output will be in BOWTIE_OUTPUT.sam; bowtie2 will also print some useful statistics to your terminal regarding how many reads mapped.\n",
    "\n",
    "Alternatively, to determine the number of reads mapped to the contigs, you can count the number of lines in the SAM file that have reads using grep:"
   ]
  },
  {
   "cell_type": "code",
   "execution_count": null,
   "id": "b5283e95",
   "metadata": {},
   "outputs": [],
   "source": [
    "grep -cv \"^@\" BOWTIE_OUTPUT.sam"
   ]
  },
  {
   "cell_type": "markdown",
   "id": "78ea86e9",
   "metadata": {},
   "source": [
    "What percentage of your reads mapped to the reference genome? "
   ]
  },
  {
   "cell_type": "markdown",
   "id": "d0effc92",
   "metadata": {},
   "source": [
    "### Step 6: Prepare sorted BAM file and indices for visualization \n",
    "\n",
    "To visualize read mapping in IGV requires 1) an indexed .fasta of your contigs, and 2) a sorted and indexed .bam file of your aligned reads. BAM files are (usually) compressed binary versions of .sam files. Note these commands are not instantaneous and may take a minute or three to run.\n"
   ]
  },
  {
   "cell_type": "code",
   "execution_count": null,
   "id": "0fcb2712",
   "metadata": {},
   "outputs": [],
   "source": [
    "samtools faidx scaffolds.fasta"
   ]
  },
  {
   "cell_type": "code",
   "execution_count": null,
   "id": "cd384a8f",
   "metadata": {},
   "outputs": [],
   "source": [
    "samtools view -b BOWTIE_OUTPUT.sam  > BOWTIE_OUTPUT.bam"
   ]
  },
  {
   "cell_type": "code",
   "execution_count": null,
   "id": "932daf83",
   "metadata": {},
   "outputs": [],
   "source": [
    "samtools sort -o BOWTIE_OUTPUT_sorted.bam BOWTIE_OUTPUT.bam"
   ]
  },
  {
   "cell_type": "code",
   "execution_count": null,
   "id": "a93affb5",
   "metadata": {},
   "outputs": [],
   "source": [
    "samtools index BOWTIE_OUTPUT_sorted.bam"
   ]
  },
  {
   "cell_type": "markdown",
   "id": "1cf46926",
   "metadata": {},
   "source": [
    "### Step 7: Visualize alignments in IGV\n",
    "\n",
    "Next we'll visualize your annotations using IGV.  You can use the web app here (https://igv.org/app/) or download and install it on your laptop. \n",
    "\n",
    "Download your scaffolds (.fasta), its index (.fai), sorted BAM file (.bam) and its index (.bai) to your laptop  using Cyberduck, winSCP, or your preferred file transfer tool.\n"
   ]
  },
  {
   "cell_type": "markdown",
   "id": "580dbd47",
   "metadata": {},
   "source": [
    "Load your reference genome (scaffolds) into IGV (Genome -> Local file...; select your .fasta)\n",
    "\n",
    "Load your alignment as a track (Tracks -> Local file...; select your .bam)"
   ]
  },
  {
   "cell_type": "markdown",
   "id": "c596c6e8",
   "metadata": {},
   "source": [
    "- Is coverage even across the contigs? \n",
    "- Are all parts of the contigs covered? \n",
    "- Are some especially deep?"
   ]
  },
  {
   "cell_type": "markdown",
   "id": "29034678",
   "metadata": {},
   "source": [
    "## Genome Annotation\n",
    "\n",
    "Now that you have an assembled genome, it's time to see what it can do! There are many annotation pipelines available; today we'll be using prokka, which specializes in bacterial and archaeal genome annotation. Prokka will use hidden Markov models (HMMs) to find open reading frames (ORFs), tRNAs, rRNAs, and other genomic elements such as CRISPRs.\n",
    "\n",
    "Prokka is simple to run, but has lots of options.  You can run it with no arguments to see everything it can do."
   ]
  },
  {
   "cell_type": "code",
   "execution_count": null,
   "id": "67af267c",
   "metadata": {},
   "outputs": [],
   "source": [
    "prokka"
   ]
  },
  {
   "cell_type": "markdown",
   "id": "52b5e160",
   "metadata": {},
   "source": [
    "Run a basic annotation on your assembled genome:"
   ]
  },
  {
   "cell_type": "code",
   "execution_count": null,
   "id": "54377b71",
   "metadata": {},
   "outputs": [],
   "source": [
    "prokka --cpus 2 --mincontiglen 200 --outdir PROKKA_OUTPUT \\\n",
    "--prefix YOUR_GENOME_NAME scaffolds.fasta"
   ]
  },
  {
   "cell_type": "markdown",
   "id": "2f8dce2d",
   "metadata": {},
   "source": [
    "In your PROKKA_OUTPUT directory, you'll find several output files.\n",
    "\n",
    "- The .gff and .gbk files contain the annotation info (same data, two formats)\n",
    "- The .ffn file contains the gene nucleotide sequences\n",
    "- The .faa file contains the protein sequences\n",
    "- The .txt file contains a summary of the features prokka annotated"
   ]
  },
  {
   "cell_type": "markdown",
   "id": "38de11c6",
   "metadata": {},
   "source": [
    "Next we'll visualize your annotations using IGV, much like we did with the mapped reads. Again, you can use the web app here (https://igv.org/app/) or download and install it on your laptop.\n",
    "\n",
    "Copy your .gff file from prokka to your computer using Cyberduck or other file transfer tool.  You should already have your .fasta and .fai for your scaffolds from earlier.\n",
    "\n",
    "Load your reference genome into IGV (Genome -> Local file...; select your .fasta)\n",
    "\n",
    "Load your annotations as a track (Tracks -> Local file...; select your .gff)"
   ]
  }
 ],
 "metadata": {
  "kernelspec": {
   "display_name": "Bash",
   "language": "bash",
   "name": "bash"
  },
  "language_info": {
   "codemirror_mode": "shell",
   "file_extension": ".sh",
   "mimetype": "text/x-sh",
   "name": "bash"
  }
 },
 "nbformat": 4,
 "nbformat_minor": 5
}
