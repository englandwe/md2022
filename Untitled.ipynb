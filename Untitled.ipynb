{
 "cells": [
  {
   "cell_type": "markdown",
   "id": "f1d7a9d5",
   "metadata": {},
   "source": [
    "# Genome Assembly and Annotation\n",
    "\n",
    "## De Novo Genome Assembly \n",
    "Genome assembly is a necessary task that has many confounding factors. The basic steps outlined below will give one possible assembly result. However, it is possible that using a different algorithm may yield different results. Therefore, it is incumbent upon the investigator to determine if further assembly attempts are required using different parameters, more/less data, or different algorithms entirely.\n"
   ]
  },
  {
   "cell_type": "markdown",
   "id": "74fd53b6",
   "metadata": {},
   "source": [
    "### Step 1: Retrieve fastq reads\n",
    "\n",
    "Genomes sequenced by previous students have been collected in this table: 02_Isolates_for_Assembly.xlsx.  Choose a sample that interests you and make a new directory to work in.  (Replace `my_group` with your group name and `my_example_assembly` with a reasonable folder name.)"
   ]
  },
  {
   "cell_type": "code",
   "execution_count": null,
   "id": "b6839ec0",
   "metadata": {},
   "outputs": [],
   "source": [
    "mkdir /my_group/my_example_assembly"
   ]
  },
  {
   "cell_type": "code",
   "execution_count": null,
   "id": "6cb8d4c2",
   "metadata": {},
   "outputs": [],
   "source": [
    "cd /my_group/my_example_assembly"
   ]
  },
  {
   "cell_type": "markdown",
   "id": "6aab42f6",
   "metadata": {},
   "source": [
    "Locate and copy a set of paired genome reads (both R1 and R2) into a local directory."
   ]
  },
  {
   "cell_type": "code",
   "execution_count": null,
   "id": "d6264c64",
   "metadata": {},
   "outputs": [],
   "source": [
    "cp /datahaus/genomes_for_assembly/FILE_PREFIX* ."
   ]
  },
  {
   "cell_type": "markdown",
   "id": "154e2d14",
   "metadata": {},
   "source": [
    "How many reads are in your fastq files? This command will decompress one of the fastq files and read the number of lines."
   ]
  },
  {
   "cell_type": "code",
   "execution_count": null,
   "id": "eeee7438",
   "metadata": {},
   "outputs": [],
   "source": [
    "zcat Sample_R1.fastq.gz | wc -l"
   ]
  },
  {
   "cell_type": "markdown",
   "id": "b85b96ce",
   "metadata": {},
   "source": [
    "How does the number of lines in the file relate to the number of sequences?"
   ]
  },
  {
   "cell_type": "markdown",
   "id": "21749673",
   "metadata": {},
   "source": [
    "### Step 2: Check sequence quality\n",
    "\n",
    "Tool of choice: FastQC\n",
    "\n",
    "Make an output directory for your results"
   ]
  },
  {
   "cell_type": "code",
   "execution_count": null,
   "id": "a016f290",
   "metadata": {},
   "outputs": [],
   "source": [
    "mkdir fastqc_out"
   ]
  },
  {
   "cell_type": "markdown",
   "id": "2b4f1c78",
   "metadata": {},
   "source": [
    "Run FastQC on both read files. `-o fastqc_out` tells the program to write results to the directory you just made."
   ]
  },
  {
   "cell_type": "code",
   "execution_count": null,
   "id": "ac188b30",
   "metadata": {},
   "outputs": [],
   "source": [
    "fastqc Sample_R1.fastq.gz Sample_R2.fastq.gz -o fastqc_out"
   ]
  },
  {
   "cell_type": "markdown",
   "id": "1835c16d",
   "metadata": {},
   "source": [
    "You can use `multiqc` to aggregate yout FastQC outputs."
   ]
  },
  {
   "cell_type": "code",
   "execution_count": null,
   "id": "9a0b18e5",
   "metadata": {},
   "outputs": [],
   "source": [
    "multiqc fastqc_out"
   ]
  },
  {
   "cell_type": "markdown",
   "id": "02fd064a",
   "metadata": {},
   "source": [
    "Check out the report (.html file). You can open it on the server with firefox (`firefox filename.html`) or download them to your computer and use your favorite browser (recommended).\n",
    "\n",
    "Questions to ask:\n",
    "\n",
    "- How many reads do you have? How long are they?\n",
    "- Are they of good quality? Is the quality poor at particular positions?\n",
    "- Are sequences duplicated or overrepresented?  Can you tell what they are?\n",
    "- Do they contain adapter sequences?\n"
   ]
  },
  {
   "cell_type": "markdown",
   "id": "16a40d46",
   "metadata": {},
   "source": [
    "### Step 3: Trimming\n",
    "\n",
    "Trimming reads will allow us to remove parts of reads with poor quality.\n",
    "\n",
    "Tool of choice: Trimmomatic"
   ]
  },
  {
   "cell_type": "code",
   "execution_count": null,
   "id": "2e893f8f",
   "metadata": {},
   "outputs": [],
   "source": [
    "trimmomatic PE -baseout YOURFILE.trimmed.fastq.gz Sample_R1.fastq.gz Sample_R2.fastq.gz \\\n",
    "ILLUMINACLIP:/opt/Trimmomatic-0.39/adapters/combined.fa:2:30:10 \\\n",
    "SLIDINGWINDOW:4:15 LEADING:2 TRAILING:2 MINLEN:100"
   ]
  },
  {
   "cell_type": "markdown",
   "id": "0241d42b",
   "metadata": {},
   "source": [
    "That’s a mouthful. What does it do?\n",
    "\n",
    "- PE: These are paired-end reads. \n",
    "- baseout: Base name for your output files\n",
    "- ILLUMINACLIP: Trims the adapters in the given file (combined.fna) from the reads. The numbers specify the number of mismatches allowed and the minimum match quality for palindromic and simple adapter matches. \n",
    "- SLIDINGWINDOW: Moves along the read in chunks of 4bp and checks average quality; if it falls below 15, those bases are removed. \n",
    "- LEADING and TRAILING: Removes bases from the beginning and end of the read if the quality is below 2. \n",
    "- MINLEN: Removes reads shorter than 100bp after trimming is complete.\n",
    "\n",
    "You should end up with 4 output files: \n",
    "\n",
    "- YOURFILE_1P.fastq.gz\n",
    "- YOURFILE_2P.fastq.gz\n",
    "- YOURFILE_1U.fastq.gz \n",
    "- YOURFILE_2U.fastq.gz \n",
    "\n",
    "1P & 2P contain paired reads where both reads survived trimming; 1U & 2U contain reads where the other read in the pair was lost.\n",
    "\n",
    "- What percentage of your reads made it through the trimming process?\n",
    "- How many lost their paired read?"
   ]
  },
  {
   "cell_type": "markdown",
   "id": "c6d26dfd",
   "metadata": {},
   "source": [
    "### Step 4: Assemble reads into contigs with SPAdes\n",
    "\n",
    "There are many excellent genome assembly tools available, largely using overlap-layout-consensus (OLC) or de Brujin graph approaches.  Today we’ll use SPAdes, a graph-based assembler.\n",
    "\n",
    "Assembly time will be uncertain; consider using screen."
   ]
  },
  {
   "cell_type": "code",
   "execution_count": null,
   "id": "4e8bcbe6",
   "metadata": {},
   "outputs": [],
   "source": [
    "spades.py -o spades_assembly -1 /path/to/YOURFILE_1P.fq.gz -2 /path/to/YOURFILE_2P.fq.gz -t 2 -m 20"
   ]
  },
  {
   "cell_type": "markdown",
   "id": "e6e70276",
   "metadata": {},
   "source": [
    "Explanation: \n",
    "\n",
    "spades.py\n",
    "- -o output directory\n",
    "- -1 file of forward reads\n",
    "- -2 file of reverse reads\n",
    "- -t number of threads\n",
    "- -m maximum memory (SPAdes will abort if this limit is exceeded)\n",
    "\n",
    "\n",
    "When complete, fasta files of contigs (`contigs.fasta`) and scaffolds (`scaffolds.fasta`) will appear in your output directory, along with other output files.\n",
    "\n",
    "We can generate a quick summary of the assembly using QUAST:"
   ]
  },
  {
   "cell_type": "code",
   "execution_count": null,
   "id": "e7e11f1f",
   "metadata": {},
   "outputs": [],
   "source": [
    "quast.py -o quast_output -t 2 /path/to/scaffolds.fasta"
   ]
  },
  {
   "cell_type": "markdown",
   "id": "e4be8ab8",
   "metadata": {},
   "source": [
    "-t is the number of threads QUAST will use.  Results will appear in the directory specified after -o .  There are several formats available; try looking at `report.txt` or `report.tsv`."
   ]
  },
  {
   "cell_type": "markdown",
   "id": "74e7aaea",
   "metadata": {},
   "source": [
    "### Step 5: Read mapping\n",
    "\n",
    "This approach to map reads can be used on entire or partial genomes, metagenomes, transcriptomes... any DNA or RNA region\\*. Most genome assembly algorithms produce just the contigs (contiguous stretches of DNA sequence) and/or scaffolds (contigs determined to be adjacent to one another, but lacking DNA sequences that physically overlap). Therefore, after assembling a (meta)genome it is common to re-map the reads to the contigs in order to understand how the reads actually constitute the contigs. Read coverage can be indicative of copy number and possibly biology (e.g., is it a plasmid? Is it a transposon?).\n",
    "\n",
    "\\*Unless you're working on eukaryotic RNA and need to take splicing into account. \n",
    "\n",
    "Now that we have acceptable reads and assembled contigs it’s time to align the two together!  \n",
    "\n",
    "Tool of choice: bowtie2\n",
    "\n",
    "First generate an index file of your contigs/genome sequence to accelerate read mapping:\n"
   ]
  },
  {
   "cell_type": "code",
   "execution_count": null,
   "id": "66a0beaf",
   "metadata": {},
   "outputs": [],
   "source": [
    "bowtie2-build scaffolds.fasta YOUR_GENOME_INDEX"
   ]
  },
  {
   "cell_type": "markdown",
   "id": "168075df",
   "metadata": {},
   "source": [
    "Now map the paired reads to the genome sequence index:"
   ]
  },
  {
   "cell_type": "code",
   "execution_count": null,
   "id": "616935ab",
   "metadata": {},
   "outputs": [],
   "source": [
    "bowtie2 --local -p 4 -x YOUR_GENOME_INDEX -1 trimmed_R1.fastq -2 trimmed_R2.fastq \\\n",
    "-S BOWTIE_OUTPUT.sam --no-unal"
   ]
  },
  {
   "cell_type": "markdown",
   "id": "75248c12",
   "metadata": {},
   "source": [
    "Your main output will be in BOWTIE_OUTPUT.sam; bowtie2 will also print some useful statistics to your terminal regarding how many reads mapped.\n",
    "\n",
    "Alternatively, to determine the number of reads mapped to the contigs, you can count the number of lines in the SAM file that have reads using grep:"
   ]
  },
  {
   "cell_type": "code",
   "execution_count": null,
   "id": "c1594e30",
   "metadata": {},
   "outputs": [],
   "source": [
    "grep -cv \"^@\" BOWTIE_OUTPUT.sam"
   ]
  },
  {
   "cell_type": "markdown",
   "id": "b1cb5cb7",
   "metadata": {},
   "source": [
    "What percentage of your reads mapped to the reference genome? "
   ]
  },
  {
   "cell_type": "markdown",
   "id": "919320ce",
   "metadata": {},
   "source": [
    "### Step 6: Prepare sorted BAM file for Visualization \n",
    "\n",
    "To visualize read mapping in tablet or other tools requires sorted and indexed .bam files, which are (usually) compressed binary versions of .sam files. Note these commands are not instantaneous and may take a minute or three to run.\n"
   ]
  },
  {
   "cell_type": "code",
   "execution_count": null,
   "id": "b58615e3",
   "metadata": {},
   "outputs": [],
   "source": [
    "samtools view -b BOWTIE_OUTPUT.sam  > BOWTIE_OUTPUT.bam"
   ]
  },
  {
   "cell_type": "code",
   "execution_count": null,
   "id": "3e082e43",
   "metadata": {},
   "outputs": [],
   "source": [
    "samtools sort -o BOWTIE_OUTPUT_sorted.bam BOWTIE_OUTPUT.bam"
   ]
  },
  {
   "cell_type": "code",
   "execution_count": null,
   "id": "2f21e1cd",
   "metadata": {},
   "outputs": [],
   "source": [
    "samtools index BOWTIE_OUTPUT_sorted.bam"
   ]
  },
  {
   "cell_type": "markdown",
   "id": "6744c0be",
   "metadata": {},
   "source": [
    "### Step 7: Visualize alignments in Tablet\n",
    "\n",
    "Open Tablet **on on your computer** (https://ics.hutton.ac.uk/tablet/download-tablet/). Download your scaffolds or reference genome and sorted  .bam file and index file (.bai) to your laptop if you’re running tablet locally.\n",
    "\n",
    "It's also installed on the server, but this tends to be laggy:\n",
    "\n",
    "`tablet &`\n",
    "\n",
    "**Note that this may take a minute to load. It also requires X11/XQuartz/Xwindows/Xming to be working.**\n"
   ]
  },
  {
   "attachments": {},
   "cell_type": "markdown",
   "id": "32873abe",
   "metadata": {},
   "source": [
    "Select “Open Assembly”\n",
    "\n",
    "![tablet_1.png](tablet_1.png)\n",
    "\n",
    "Use the `BOWTIE_OUTPUT_sorted.bam` file you created as the “Primary assembly file”.\n",
    "Use the `scaffolds.fasta` file you assembled as the “Reference file”.\n",
    "\n",
    "![tablet_2.png](tablet_2.png)\n",
    "\n",
    "After selecting Open something like this should load:\n",
    "\n",
    "![tablet-3.png](tablet-3.png)\n",
    "\n",
    "- Is coverage even across the contigs? \n",
    "- Are all parts of the contigs covered? \n",
    "- Are some especially deep?\n"
   ]
  }
 ],
 "metadata": {
  "kernelspec": {
   "display_name": "Bash",
   "language": "bash",
   "name": "bash"
  },
  "language_info": {
   "codemirror_mode": "shell",
   "file_extension": ".sh",
   "mimetype": "text/x-sh",
   "name": "bash"
  }
 },
 "nbformat": 4,
 "nbformat_minor": 5
}
